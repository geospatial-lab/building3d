{
 "cells": [
  {
   "cell_type": "code",
   "execution_count": 1,
   "metadata": {
    "collapsed": true,
    "ExecuteTime": {
     "start_time": "2024-04-11T00:48:45.936549Z",
     "end_time": "2024-04-11T00:48:45.967039Z"
    }
   },
   "outputs": [],
   "source": [
    "import numpy as np\n",
    "\n",
    "from ap_calculator import APCalculator\n",
    "from datasets import building3d"
   ]
  },
  {
   "cell_type": "code",
   "execution_count": 2,
   "outputs": [],
   "source": [
    "# read point clouds\n",
    "pc = np.loadtxt('../datasets/2.xyz', dtype=np.float64)\n",
    "\n",
    "# read wireframe\n",
    "pd_vertices, pd_egdes = building3d.load_wireframe('../datasets/2.obj')\n",
    "gt_vertices, gt_egdes = building3d.load_wireframe('../datasets/2.obj')\n",
    "\n",
    "pd_edges_vertices = np.stack((pd_vertices[pd_egdes[:, 0]], pd_vertices[pd_egdes[:, 1]]), axis=1)\n",
    "pd_edges_vertices = pd_edges_vertices[ np.arange(pd_edges_vertices.shape[0])[:, np.newaxis], np.flip(np.argsort(pd_edges_vertices[:, :, -1]), axis=1)]\n",
    "\n",
    "gt_edges_vertices = np.stack((gt_vertices[gt_egdes[:, 0]], gt_vertices[gt_egdes[:, 1]]), axis=1)\n",
    "gt_edges_vertices = gt_edges_vertices[ np.arange(gt_edges_vertices.shape[0])[:, np.newaxis], np.flip(np.argsort(pd_edges_vertices[:, :, -1]), axis=1)]\n"
   ],
   "metadata": {
    "collapsed": false,
    "ExecuteTime": {
     "start_time": "2024-04-11T00:48:45.959036Z",
     "end_time": "2024-04-11T00:48:45.984723Z"
    }
   }
  },
  {
   "cell_type": "code",
   "execution_count": 3,
   "outputs": [],
   "source": [
    "ap_calculator = APCalculator(distance_thresh=1)"
   ],
   "metadata": {
    "collapsed": false,
    "ExecuteTime": {
     "start_time": "2024-04-11T00:48:45.972040Z",
     "end_time": "2024-04-11T00:48:45.986724Z"
    }
   }
  },
  {
   "cell_type": "code",
   "execution_count": 4,
   "outputs": [],
   "source": [
    "batch = dict()\n",
    "batch['predicted_vertices'] = pd_vertices[np.newaxis,:]\n",
    "batch['predicted_edges'] = pd_egdes[np.newaxis,:]\n",
    "batch['pred_edges_vertices'] = pd_edges_vertices.reshape((1, -1, 2, 3))\n",
    "\n",
    "batch['wf_vertices'] = gt_vertices[np.newaxis,:]\n",
    "batch['wf_edges'] = gt_egdes[np.newaxis,:]\n",
    "batch['wf_edges_vertices'] = gt_edges_vertices.reshape((1, -1, 2, 3))\n"
   ],
   "metadata": {
    "collapsed": false,
    "ExecuteTime": {
     "start_time": "2024-04-11T00:48:45.988725Z",
     "end_time": "2024-04-11T00:48:46.005272Z"
    }
   }
  },
  {
   "cell_type": "code",
   "execution_count": 5,
   "outputs": [
    {
     "name": "stdout",
     "output_type": "stream",
     "text": [
      "Wireframe Edit distance 0.0\n",
      "Average Corner offset 0.0\n",
      "Corners Precision:  1.0\n",
      "Corners Recall:  1.0\n",
      "Corners F1： 1.0\n",
      "Edges Precision:  1.0\n",
      "Edges Recall:  1.0\n",
      "Edges F1:  1.0\n"
     ]
    }
   ],
   "source": [
    "ap_calculator.compute_metrics(batch)\n",
    "ap_calculator.output_accuracy()"
   ],
   "metadata": {
    "collapsed": false,
    "ExecuteTime": {
     "start_time": "2024-04-11T00:48:46.062413Z",
     "end_time": "2024-04-11T00:48:52.328871Z"
    }
   }
  },
  {
   "cell_type": "code",
   "execution_count": 5,
   "outputs": [],
   "source": [],
   "metadata": {
    "collapsed": false,
    "ExecuteTime": {
     "start_time": "2024-04-11T00:41:25.813334Z",
     "end_time": "2024-04-11T00:41:30.835374Z"
    }
   }
  }
 ],
 "metadata": {
  "kernelspec": {
   "display_name": "Python 3",
   "language": "python",
   "name": "python3"
  },
  "language_info": {
   "codemirror_mode": {
    "name": "ipython",
    "version": 2
   },
   "file_extension": ".py",
   "mimetype": "text/x-python",
   "name": "python",
   "nbconvert_exporter": "python",
   "pygments_lexer": "ipython2",
   "version": "2.7.6"
  }
 },
 "nbformat": 4,
 "nbformat_minor": 0
}
